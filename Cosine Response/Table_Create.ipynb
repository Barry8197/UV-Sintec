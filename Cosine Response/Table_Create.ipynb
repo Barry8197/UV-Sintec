{
 "cells": [
  {
   "cell_type": "code",
   "execution_count": 5,
   "metadata": {},
   "outputs": [],
   "source": [
    "import psycopg2"
   ]
  },
  {
   "cell_type": "code",
   "execution_count": 7,
   "metadata": {},
   "outputs": [],
   "source": [
    "try : \n",
    "    conn = psycopg2.connect(database = \"LED\" , user = \"postgres\" , password = \"uv-sintec\" , host = \"localhost\" , port = \"5432\")\n",
    "    \n",
    "except :\n",
    "    print(\"Unable to connect to Database\")\n",
    "    \n",
    "cur = conn.cursor()\n",
    "\n",
    "try :\n",
    "    cur.execute(\"CREATE TABLE Test_LED (Date varchar , Time varchar , Product_Code varchar , Wavelength varchar , Model varchar , RMSE float ,Param1 float[] , Param2 float[] , Param3 float[] , Param4 float[] , Normalized_Power float[]);\")\n",
    "except :\n",
    "    print(\"Unable to create table\")\n",
    "    \n",
    "conn.commit()\n",
    "conn.close()\n",
    "cur.close()\n"
   ]
  },
  {
   "cell_type": "code",
   "execution_count": null,
   "metadata": {},
   "outputs": [],
   "source": []
  }
 ],
 "metadata": {
  "kernelspec": {
   "display_name": "Python 3",
   "language": "python",
   "name": "python3"
  },
  "language_info": {
   "codemirror_mode": {
    "name": "ipython",
    "version": 3
   },
   "file_extension": ".py",
   "mimetype": "text/x-python",
   "name": "python",
   "nbconvert_exporter": "python",
   "pygments_lexer": "ipython3",
   "version": "3.6.8"
  }
 },
 "nbformat": 4,
 "nbformat_minor": 2
}
