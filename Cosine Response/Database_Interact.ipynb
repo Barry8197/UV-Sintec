{
 "cells": [
  {
   "cell_type": "code",
   "execution_count": 1,
   "metadata": {
    "scrolled": true
   },
   "outputs": [
    {
     "name": "stdout",
     "output_type": "stream",
     "text": [
      "Enter Manufacturer Wavelength in nm :520\n",
      "Enter Full Product Code:1125-1109-ND\n",
      "Enter Number of Sweeps Completed in integers:1\n",
      "Please Enter Boxcar Value :5\n",
      "\n",
      "The filename is 520nm_1125-1109-ND_sweeps1_boxcar5_.xlsx\n",
      "\n",
      "Please Enter Angle of LED:0\n",
      "Peak Indices/Index:  [ 18 215]\n",
      "Please Enter Angle of LED:0\n"
     ]
    },
    {
     "ename": "KeyboardInterrupt",
     "evalue": "",
     "output_type": "error",
     "traceback": [
      "\u001b[1;31m---------------------------------------------------------------------------\u001b[0m",
      "\u001b[1;31mKeyboardInterrupt\u001b[0m                         Traceback (most recent call last)",
      "\u001b[1;32mC:\\ProgramData\\Anaconda3\\lib\\site-packages\\ipykernel\\kernelbase.py\u001b[0m in \u001b[0;36m_input_request\u001b[1;34m(self, prompt, ident, parent, password)\u001b[0m\n\u001b[0;32m    877\u001b[0m             \u001b[1;32mtry\u001b[0m\u001b[1;33m:\u001b[0m\u001b[1;33m\u001b[0m\u001b[1;33m\u001b[0m\u001b[0m\n\u001b[1;32m--> 878\u001b[1;33m                 \u001b[0mident\u001b[0m\u001b[1;33m,\u001b[0m \u001b[0mreply\u001b[0m \u001b[1;33m=\u001b[0m \u001b[0mself\u001b[0m\u001b[1;33m.\u001b[0m\u001b[0msession\u001b[0m\u001b[1;33m.\u001b[0m\u001b[0mrecv\u001b[0m\u001b[1;33m(\u001b[0m\u001b[0mself\u001b[0m\u001b[1;33m.\u001b[0m\u001b[0mstdin_socket\u001b[0m\u001b[1;33m,\u001b[0m \u001b[1;36m0\u001b[0m\u001b[1;33m)\u001b[0m\u001b[1;33m\u001b[0m\u001b[1;33m\u001b[0m\u001b[0m\n\u001b[0m\u001b[0;32m    879\u001b[0m             \u001b[1;32mexcept\u001b[0m \u001b[0mException\u001b[0m\u001b[1;33m:\u001b[0m\u001b[1;33m\u001b[0m\u001b[1;33m\u001b[0m\u001b[0m\n",
      "\u001b[1;32mC:\\ProgramData\\Anaconda3\\lib\\site-packages\\jupyter_client\\session.py\u001b[0m in \u001b[0;36mrecv\u001b[1;34m(self, socket, mode, content, copy)\u001b[0m\n\u001b[0;32m    802\u001b[0m         \u001b[1;32mtry\u001b[0m\u001b[1;33m:\u001b[0m\u001b[1;33m\u001b[0m\u001b[1;33m\u001b[0m\u001b[0m\n\u001b[1;32m--> 803\u001b[1;33m             \u001b[0mmsg_list\u001b[0m \u001b[1;33m=\u001b[0m \u001b[0msocket\u001b[0m\u001b[1;33m.\u001b[0m\u001b[0mrecv_multipart\u001b[0m\u001b[1;33m(\u001b[0m\u001b[0mmode\u001b[0m\u001b[1;33m,\u001b[0m \u001b[0mcopy\u001b[0m\u001b[1;33m=\u001b[0m\u001b[0mcopy\u001b[0m\u001b[1;33m)\u001b[0m\u001b[1;33m\u001b[0m\u001b[1;33m\u001b[0m\u001b[0m\n\u001b[0m\u001b[0;32m    804\u001b[0m         \u001b[1;32mexcept\u001b[0m \u001b[0mzmq\u001b[0m\u001b[1;33m.\u001b[0m\u001b[0mZMQError\u001b[0m \u001b[1;32mas\u001b[0m \u001b[0me\u001b[0m\u001b[1;33m:\u001b[0m\u001b[1;33m\u001b[0m\u001b[1;33m\u001b[0m\u001b[0m\n",
      "\u001b[1;32mC:\\ProgramData\\Anaconda3\\lib\\site-packages\\zmq\\sugar\\socket.py\u001b[0m in \u001b[0;36mrecv_multipart\u001b[1;34m(self, flags, copy, track)\u001b[0m\n\u001b[0;32m    469\u001b[0m         \"\"\"\n\u001b[1;32m--> 470\u001b[1;33m         \u001b[0mparts\u001b[0m \u001b[1;33m=\u001b[0m \u001b[1;33m[\u001b[0m\u001b[0mself\u001b[0m\u001b[1;33m.\u001b[0m\u001b[0mrecv\u001b[0m\u001b[1;33m(\u001b[0m\u001b[0mflags\u001b[0m\u001b[1;33m,\u001b[0m \u001b[0mcopy\u001b[0m\u001b[1;33m=\u001b[0m\u001b[0mcopy\u001b[0m\u001b[1;33m,\u001b[0m \u001b[0mtrack\u001b[0m\u001b[1;33m=\u001b[0m\u001b[0mtrack\u001b[0m\u001b[1;33m)\u001b[0m\u001b[1;33m]\u001b[0m\u001b[1;33m\u001b[0m\u001b[1;33m\u001b[0m\u001b[0m\n\u001b[0m\u001b[0;32m    471\u001b[0m         \u001b[1;31m# have first part already, only loop while more to receive\u001b[0m\u001b[1;33m\u001b[0m\u001b[1;33m\u001b[0m\u001b[1;33m\u001b[0m\u001b[0m\n",
      "\u001b[1;32mzmq/backend/cython/socket.pyx\u001b[0m in \u001b[0;36mzmq.backend.cython.socket.Socket.recv\u001b[1;34m()\u001b[0m\n",
      "\u001b[1;32mzmq/backend/cython/socket.pyx\u001b[0m in \u001b[0;36mzmq.backend.cython.socket.Socket.recv\u001b[1;34m()\u001b[0m\n",
      "\u001b[1;32mzmq/backend/cython/socket.pyx\u001b[0m in \u001b[0;36mzmq.backend.cython.socket._recv_copy\u001b[1;34m()\u001b[0m\n",
      "\u001b[1;32mC:\\ProgramData\\Anaconda3\\lib\\site-packages\\zmq\\backend\\cython\\checkrc.pxd\u001b[0m in \u001b[0;36mzmq.backend.cython.checkrc._check_rc\u001b[1;34m()\u001b[0m\n",
      "\u001b[1;31mKeyboardInterrupt\u001b[0m: ",
      "\nDuring handling of the above exception, another exception occurred:\n",
      "\u001b[1;31mKeyboardInterrupt\u001b[0m                         Traceback (most recent call last)",
      "\u001b[1;32m~\\Documents\\GitHub\\UV-Sintec\\Beam Profile\\LEDSweep.py\u001b[0m in \u001b[0;36m<module>\u001b[1;34m\u001b[0m\n\u001b[0;32m     27\u001b[0m \u001b[0mdifAngle\u001b[0m \u001b[1;33m=\u001b[0m \u001b[1;36m0\u001b[0m\u001b[1;33m\u001b[0m\u001b[1;33m\u001b[0m\u001b[0m\n\u001b[0;32m     28\u001b[0m \u001b[1;32mfor\u001b[0m \u001b[0mdifAngle\u001b[0m \u001b[1;32min\u001b[0m \u001b[0mrange\u001b[0m \u001b[1;33m(\u001b[0m\u001b[1;36m0\u001b[0m\u001b[1;33m,\u001b[0m \u001b[0mnoofangles\u001b[0m\u001b[1;33m)\u001b[0m\u001b[1;33m:\u001b[0m\u001b[1;33m\u001b[0m\u001b[1;33m\u001b[0m\u001b[0m\n\u001b[1;32m---> 29\u001b[1;33m     \u001b[0mLEDAngle\u001b[0m \u001b[1;33m=\u001b[0m \u001b[0mint\u001b[0m\u001b[1;33m(\u001b[0m\u001b[0minput\u001b[0m\u001b[1;33m(\u001b[0m\u001b[1;34m\"Please Enter Angle of LED:\"\u001b[0m\u001b[1;33m)\u001b[0m\u001b[1;33m)\u001b[0m\u001b[1;33m\u001b[0m\u001b[1;33m\u001b[0m\u001b[0m\n\u001b[0m\u001b[0;32m     30\u001b[0m     \u001b[0mdir\u001b[0m \u001b[1;33m=\u001b[0m \u001b[1;34m'1'\u001b[0m\u001b[1;33m\u001b[0m\u001b[1;33m\u001b[0m\u001b[0m\n\u001b[0;32m     31\u001b[0m     \u001b[0mreset\u001b[0m \u001b[1;33m=\u001b[0m\u001b[1;34m'3'\u001b[0m\u001b[1;33m\u001b[0m\u001b[1;33m\u001b[0m\u001b[0m\n",
      "\u001b[1;32mC:\\ProgramData\\Anaconda3\\lib\\site-packages\\ipykernel\\kernelbase.py\u001b[0m in \u001b[0;36mraw_input\u001b[1;34m(self, prompt)\u001b[0m\n\u001b[0;32m    851\u001b[0m             \u001b[0mself\u001b[0m\u001b[1;33m.\u001b[0m\u001b[0m_parent_ident\u001b[0m\u001b[1;33m,\u001b[0m\u001b[1;33m\u001b[0m\u001b[1;33m\u001b[0m\u001b[0m\n\u001b[0;32m    852\u001b[0m             \u001b[0mself\u001b[0m\u001b[1;33m.\u001b[0m\u001b[0m_parent_header\u001b[0m\u001b[1;33m,\u001b[0m\u001b[1;33m\u001b[0m\u001b[1;33m\u001b[0m\u001b[0m\n\u001b[1;32m--> 853\u001b[1;33m             \u001b[0mpassword\u001b[0m\u001b[1;33m=\u001b[0m\u001b[1;32mFalse\u001b[0m\u001b[1;33m,\u001b[0m\u001b[1;33m\u001b[0m\u001b[1;33m\u001b[0m\u001b[0m\n\u001b[0m\u001b[0;32m    854\u001b[0m         )\n\u001b[0;32m    855\u001b[0m \u001b[1;33m\u001b[0m\u001b[0m\n",
      "\u001b[1;32mC:\\ProgramData\\Anaconda3\\lib\\site-packages\\ipykernel\\kernelbase.py\u001b[0m in \u001b[0;36m_input_request\u001b[1;34m(self, prompt, ident, parent, password)\u001b[0m\n\u001b[0;32m    881\u001b[0m             \u001b[1;32mexcept\u001b[0m \u001b[0mKeyboardInterrupt\u001b[0m\u001b[1;33m:\u001b[0m\u001b[1;33m\u001b[0m\u001b[1;33m\u001b[0m\u001b[0m\n\u001b[0;32m    882\u001b[0m                 \u001b[1;31m# re-raise KeyboardInterrupt, to truncate traceback\u001b[0m\u001b[1;33m\u001b[0m\u001b[1;33m\u001b[0m\u001b[1;33m\u001b[0m\u001b[0m\n\u001b[1;32m--> 883\u001b[1;33m                 \u001b[1;32mraise\u001b[0m \u001b[0mKeyboardInterrupt\u001b[0m\u001b[1;33m\u001b[0m\u001b[1;33m\u001b[0m\u001b[0m\n\u001b[0m\u001b[0;32m    884\u001b[0m             \u001b[1;32melse\u001b[0m\u001b[1;33m:\u001b[0m\u001b[1;33m\u001b[0m\u001b[1;33m\u001b[0m\u001b[0m\n\u001b[0;32m    885\u001b[0m                 \u001b[1;32mbreak\u001b[0m\u001b[1;33m\u001b[0m\u001b[1;33m\u001b[0m\u001b[0m\n",
      "\u001b[1;31mKeyboardInterrupt\u001b[0m: "
     ]
    }
   ],
   "source": [
    "%matplotlib inline\n",
    "%run LEDSweep.py"
   ]
  },
  {
   "cell_type": "code",
   "execution_count": 1,
   "metadata": {},
   "outputs": [],
   "source": [
    "import Database_Update\n",
    "\n",
    "\n",
    "import matplotlib.pyplot as plt\n"
   ]
  },
  {
   "cell_type": "code",
   "execution_count": 2,
   "metadata": {
    "scrolled": true
   },
   "outputs": [
    {
     "data": {
      "application/vnd.jupyter.widget-view+json": {
       "model_id": "ccc52ef75d6a4187b3363ae9afea156d",
       "version_major": 2,
       "version_minor": 0
      },
      "text/plain": [
       "interactive(children=(Text(value='', description='Input:', placeholder='Enter Product Code'), Output()), _dom_…"
      ]
     },
     "metadata": {},
     "output_type": "display_data"
    }
   ],
   "source": [
    "Database_Update.Database_Search()"
   ]
  },
  {
   "cell_type": "code",
   "execution_count": 3,
   "metadata": {},
   "outputs": [
    {
     "name": "stdout",
     "output_type": "stream",
     "text": [
      "Enter Full Product Code :1080-1143-ND\n"
     ]
    },
    {
     "data": {
      "text/html": [
       "<div>\n",
       "<style scoped>\n",
       "    .dataframe tbody tr th:only-of-type {\n",
       "        vertical-align: middle;\n",
       "    }\n",
       "\n",
       "    .dataframe tbody tr th {\n",
       "        vertical-align: top;\n",
       "    }\n",
       "\n",
       "    .dataframe thead th {\n",
       "        text-align: right;\n",
       "    }\n",
       "</style>\n",
       "<table border=\"1\" class=\"dataframe\">\n",
       "  <thead>\n",
       "    <tr style=\"text-align: right;\">\n",
       "      <th></th>\n",
       "      <th>date</th>\n",
       "      <th>time</th>\n",
       "      <th>product_code</th>\n",
       "      <th>input_angle_1</th>\n",
       "      <th>rmse_angle_1</th>\n",
       "      <th>param1_angle_1</th>\n",
       "      <th>param3_angle_1</th>\n",
       "      <th>param4_angle_1</th>\n",
       "      <th>param2_angle_1</th>\n",
       "      <th>normalized_power_angle_1</th>\n",
       "      <th>...</th>\n",
       "      <th>rmse_angle_4</th>\n",
       "      <th>param1_angle_4</th>\n",
       "      <th>param2_angle_4</th>\n",
       "      <th>param3_angle_4</th>\n",
       "      <th>param4_angle_4</th>\n",
       "      <th>normalized_power_angle_4</th>\n",
       "      <th>model_angle_1</th>\n",
       "      <th>model_angle_2</th>\n",
       "      <th>model_angle_3</th>\n",
       "      <th>model_angle_4</th>\n",
       "    </tr>\n",
       "  </thead>\n",
       "  <tbody>\n",
       "    <tr>\n",
       "      <th>0</th>\n",
       "      <td>2019-07-19</td>\n",
       "      <td>14:04:17</td>\n",
       "      <td>1080-1143-ND</td>\n",
       "      <td>0</td>\n",
       "      <td>0.16751391146834405</td>\n",
       "      <td>{0.8942724867724866,0.13081569664902995,0.1472...</td>\n",
       "      <td>{6.68452380952381,18.566798941798936,200.0,0.0}</td>\n",
       "      <td>{}</td>\n",
       "      <td>{5.43694885361552,69.02954144620813,19.3963844...</td>\n",
       "      <td>{0.06588241542301769,0.06596207977056669,0.081...</td>\n",
       "      <td>...</td>\n",
       "      <td>0.06875608580397245</td>\n",
       "      <td>{0.9,0.0,0.15555555555555556,0.17777777777777778}</td>\n",
       "      <td>{0.0,45.0,0.0,20.0}</td>\n",
       "      <td>{15.0,0.0,155.55555555555554,44.44444444444444}</td>\n",
       "      <td>{}</td>\n",
       "      <td>{0.0003464226764208424,0.0003464226764208424,0...</td>\n",
       "      <td>Cosine Power Model</td>\n",
       "      <td>Cosine Power Model</td>\n",
       "      <td>Cosine Power Model</td>\n",
       "      <td>Cosine Power Model</td>\n",
       "    </tr>\n",
       "  </tbody>\n",
       "</table>\n",
       "<p>1 rows × 35 columns</p>\n",
       "</div>"
      ],
      "text/plain": [
       "         date      time  product_code input_angle_1         rmse_angle_1  \\\n",
       "0  2019-07-19  14:04:17  1080-1143-ND             0  0.16751391146834405   \n",
       "\n",
       "                                      param1_angle_1  \\\n",
       "0  {0.8942724867724866,0.13081569664902995,0.1472...   \n",
       "\n",
       "                                    param3_angle_1 param4_angle_1  \\\n",
       "0  {6.68452380952381,18.566798941798936,200.0,0.0}             {}   \n",
       "\n",
       "                                      param2_angle_1  \\\n",
       "0  {5.43694885361552,69.02954144620813,19.3963844...   \n",
       "\n",
       "                            normalized_power_angle_1  ...  \\\n",
       "0  {0.06588241542301769,0.06596207977056669,0.081...  ...   \n",
       "\n",
       "          rmse_angle_4                                     param1_angle_4  \\\n",
       "0  0.06875608580397245  {0.9,0.0,0.15555555555555556,0.17777777777777778}   \n",
       "\n",
       "        param2_angle_4                                   param3_angle_4  \\\n",
       "0  {0.0,45.0,0.0,20.0}  {15.0,0.0,155.55555555555554,44.44444444444444}   \n",
       "\n",
       "  param4_angle_4                           normalized_power_angle_4  \\\n",
       "0             {}  {0.0003464226764208424,0.0003464226764208424,0...   \n",
       "\n",
       "        model_angle_1       model_angle_2       model_angle_3  \\\n",
       "0  Cosine Power Model  Cosine Power Model  Cosine Power Model   \n",
       "\n",
       "        model_angle_4  \n",
       "0  Cosine Power Model  \n",
       "\n",
       "[1 rows x 35 columns]"
      ]
     },
     "metadata": {},
     "output_type": "display_data"
    },
    {
     "name": "stdout",
     "output_type": "stream",
     "text": [
      "Which Row do you wish to extract data from :0\n",
      "The Data has been saved to variable 'items_list'\n",
      "The location of the data corresponds to the loaciton of the column heading \n",
      "e.g. wavelength heading is item_list[0][3] and the wavelength value is item_list[1][3]\n",
      "0. date\n",
      "1. time\n",
      "2. product_code\n",
      "3. input_angle_1\n",
      "4. rmse_angle_1\n",
      "5. param1_angle_1\n",
      "6. param3_angle_1\n",
      "7. param4_angle_1\n",
      "8. param2_angle_1\n",
      "9. normalized_power_angle_1\n",
      "10. input_angle_2\n",
      "11. rmse_angle_2\n",
      "12. param1_angle_2\n",
      "13. param2_angle_2\n",
      "14. param3_angle_2\n",
      "15. param4_angle_2\n",
      "16. normalized_power_angle_2\n",
      "17. input_angle_3\n",
      "18. rmse_angle_3\n",
      "19. param1_angle_3\n",
      "20. param2_angle_3\n",
      "21. param3_angle_3\n",
      "22. param4_angle_3\n",
      "23. normalized_power_angle_3\n",
      "24. input_angle_4\n",
      "25. rmse_angle_4\n",
      "26. param1_angle_4\n",
      "27. param2_angle_4\n",
      "28. param3_angle_4\n",
      "29. param4_angle_4\n",
      "30. normalized_power_angle_4\n",
      "31. model_angle_1\n",
      "32. model_angle_2\n",
      "33. model_angle_3\n",
      "34. model_angle_4\n"
     ]
    }
   ],
   "source": [
    "data = Database_Update.Data_Extract()"
   ]
  },
  {
   "cell_type": "code",
   "execution_count": 4,
   "metadata": {},
   "outputs": [
    {
     "name": "stdout",
     "output_type": "stream",
     "text": [
      "Enter Full Product Code :1080-1143-ND\n"
     ]
    },
    {
     "data": {
      "text/html": [
       "<div>\n",
       "<style scoped>\n",
       "    .dataframe tbody tr th:only-of-type {\n",
       "        vertical-align: middle;\n",
       "    }\n",
       "\n",
       "    .dataframe tbody tr th {\n",
       "        vertical-align: top;\n",
       "    }\n",
       "\n",
       "    .dataframe thead th {\n",
       "        text-align: right;\n",
       "    }\n",
       "</style>\n",
       "<table border=\"1\" class=\"dataframe\">\n",
       "  <thead>\n",
       "    <tr style=\"text-align: right;\">\n",
       "      <th></th>\n",
       "      <th>date</th>\n",
       "      <th>time</th>\n",
       "      <th>product_code</th>\n",
       "      <th>input_angle_1</th>\n",
       "      <th>rmse_angle_1</th>\n",
       "      <th>param1_angle_1</th>\n",
       "      <th>param3_angle_1</th>\n",
       "      <th>param4_angle_1</th>\n",
       "      <th>param2_angle_1</th>\n",
       "      <th>normalized_power_angle_1</th>\n",
       "      <th>...</th>\n",
       "      <th>rmse_angle_4</th>\n",
       "      <th>param1_angle_4</th>\n",
       "      <th>param2_angle_4</th>\n",
       "      <th>param3_angle_4</th>\n",
       "      <th>param4_angle_4</th>\n",
       "      <th>normalized_power_angle_4</th>\n",
       "      <th>model_angle_1</th>\n",
       "      <th>model_angle_2</th>\n",
       "      <th>model_angle_3</th>\n",
       "      <th>model_angle_4</th>\n",
       "    </tr>\n",
       "  </thead>\n",
       "  <tbody>\n",
       "    <tr>\n",
       "      <th>0</th>\n",
       "      <td>2019-07-19</td>\n",
       "      <td>14:04:17</td>\n",
       "      <td>1080-1143-ND</td>\n",
       "      <td>0</td>\n",
       "      <td>0.16751391146834405</td>\n",
       "      <td>{0.8942724867724866,0.13081569664902995,0.1472...</td>\n",
       "      <td>{6.68452380952381,18.566798941798936,200.0,0.0}</td>\n",
       "      <td>{}</td>\n",
       "      <td>{5.43694885361552,69.02954144620813,19.3963844...</td>\n",
       "      <td>{0.06588241542301769,0.06596207977056669,0.081...</td>\n",
       "      <td>...</td>\n",
       "      <td>0.06875608580397245</td>\n",
       "      <td>{0.9,0.0,0.15555555555555556,0.17777777777777778}</td>\n",
       "      <td>{0.0,45.0,0.0,20.0}</td>\n",
       "      <td>{15.0,0.0,155.55555555555554,44.44444444444444}</td>\n",
       "      <td>{}</td>\n",
       "      <td>{0.0003464226764208424,0.0003464226764208424,0...</td>\n",
       "      <td>Cosine Power Model</td>\n",
       "      <td>Cosine Power Model</td>\n",
       "      <td>Cosine Power Model</td>\n",
       "      <td>Cosine Power Model</td>\n",
       "    </tr>\n",
       "  </tbody>\n",
       "</table>\n",
       "<p>1 rows × 35 columns</p>\n",
       "</div>"
      ],
      "text/plain": [
       "         date      time  product_code input_angle_1         rmse_angle_1  \\\n",
       "0  2019-07-19  14:04:17  1080-1143-ND             0  0.16751391146834405   \n",
       "\n",
       "                                      param1_angle_1  \\\n",
       "0  {0.8942724867724866,0.13081569664902995,0.1472...   \n",
       "\n",
       "                                    param3_angle_1 param4_angle_1  \\\n",
       "0  {6.68452380952381,18.566798941798936,200.0,0.0}             {}   \n",
       "\n",
       "                                      param2_angle_1  \\\n",
       "0  {5.43694885361552,69.02954144620813,19.3963844...   \n",
       "\n",
       "                            normalized_power_angle_1  ...  \\\n",
       "0  {0.06588241542301769,0.06596207977056669,0.081...  ...   \n",
       "\n",
       "          rmse_angle_4                                     param1_angle_4  \\\n",
       "0  0.06875608580397245  {0.9,0.0,0.15555555555555556,0.17777777777777778}   \n",
       "\n",
       "        param2_angle_4                                   param3_angle_4  \\\n",
       "0  {0.0,45.0,0.0,20.0}  {15.0,0.0,155.55555555555554,44.44444444444444}   \n",
       "\n",
       "  param4_angle_4                           normalized_power_angle_4  \\\n",
       "0             {}  {0.0003464226764208424,0.0003464226764208424,0...   \n",
       "\n",
       "        model_angle_1       model_angle_2       model_angle_3  \\\n",
       "0  Cosine Power Model  Cosine Power Model  Cosine Power Model   \n",
       "\n",
       "        model_angle_4  \n",
       "0  Cosine Power Model  \n",
       "\n",
       "[1 rows x 35 columns]"
      ]
     },
     "metadata": {},
     "output_type": "display_data"
    },
    {
     "name": "stdout",
     "output_type": "stream",
     "text": [
      "Select the row you wish to delete :1\n",
      "The row you selected does not correspond to the product code entered\n"
     ]
    }
   ],
   "source": [
    "Database_Update.Row_Delete()"
   ]
  },
  {
   "cell_type": "code",
   "execution_count": null,
   "metadata": {},
   "outputs": [],
   "source": []
  }
 ],
 "metadata": {
  "kernelspec": {
   "display_name": "Python 3",
   "language": "python",
   "name": "python3"
  },
  "language_info": {
   "codemirror_mode": {
    "name": "ipython",
    "version": 3
   },
   "file_extension": ".py",
   "mimetype": "text/x-python",
   "name": "python",
   "nbconvert_exporter": "python",
   "pygments_lexer": "ipython3",
   "version": "3.6.8"
  }
 },
 "nbformat": 4,
 "nbformat_minor": 2
}
