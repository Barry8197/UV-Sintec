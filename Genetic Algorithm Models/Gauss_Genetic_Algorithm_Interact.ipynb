{
 "cells": [
  {
   "cell_type": "code",
   "execution_count": 1,
   "metadata": {},
   "outputs": [],
   "source": [
    "import Gauss_Genetic_Algorithm\n",
    "import numpy as np\n",
    "import matplotlib.pyplot as plt\n",
    "import csv"
   ]
  },
  {
   "cell_type": "code",
   "execution_count": 8,
   "metadata": {},
   "outputs": [],
   "source": [
    "datasheet = 'CREE_LED4.csv'\n",
    "file = csv.reader(open(datasheet))  #read in relevant datasheet\n",
    "angle = np.linspace(-90 , 90 , 181*20)\n",
    "theta = angle*np.pi/180\n",
    "data = []\n",
    "x_axis = []\n",
    "x_axis_rad = []\n",
    "bprofile = []\n",
    "Power = []\n",
    "\n",
    "for row in file:\n",
    "    data.append([float(row[0]),float(row[1])])\n",
    "\n",
    "data.sort(key = lambda x: x[0])  #sorts the array in ascending order\n",
    "\n",
    "for item in data :\n",
    "    x_axis_rad.append(item[0]*np.pi/180) #converts to radians\n",
    "    x_axis.append(item[0])\n",
    "    bprofile.append(item[1]/100)"
   ]
  },
  {
   "cell_type": "code",
   "execution_count": null,
   "metadata": {},
   "outputs": [
    {
     "name": "stdout",
     "output_type": "stream",
     "text": [
      "Initial Error: 8.666 %\n"
     ]
    }
   ],
   "source": [
    "Gauss_Genetic_Algorithm.x_axis_rad = x_axis_rad\n",
    "Gauss_Genetic_Algorithm.bprofile = bprofile\n",
    "Gauss_Genetic_Algorithm.x_axis = x_axis\n",
    "Gauss_Genetic_Algorithm.datasheet = datasheet\n",
    "final , progress = Gauss_Genetic_Algorithm.geneticAlgorithm(popSize=500, eliteSize=50, mutationRate=0.1, generations=40)\n",
    "Gauss_Genetic_Algorithm.GA_plot(final , progress)"
   ]
  },
  {
   "cell_type": "code",
   "execution_count": null,
   "metadata": {},
   "outputs": [],
   "source": []
  }
 ],
 "metadata": {
  "kernelspec": {
   "display_name": "Python 3",
   "language": "python",
   "name": "python3"
  },
  "language_info": {
   "codemirror_mode": {
    "name": "ipython",
    "version": 3
   },
   "file_extension": ".py",
   "mimetype": "text/x-python",
   "name": "python",
   "nbconvert_exporter": "python",
   "pygments_lexer": "ipython3",
   "version": "3.7.3"
  }
 },
 "nbformat": 4,
 "nbformat_minor": 2
}
