{
 "cells": [
  {
   "cell_type": "code",
   "execution_count": 1,
   "metadata": {},
   "outputs": [],
   "source": [
    "import CPM_Genetic_Algorithm\n",
    "import numpy as np\n",
    "import matplotlib.pyplot as plt\n",
    "import csv"
   ]
  },
  {
   "cell_type": "code",
   "execution_count": 2,
   "metadata": {},
   "outputs": [],
   "source": [
    "datasheet = 'Nichia.csv'\n",
    "file = csv.reader(open(datasheet))  #read in relevant datasheet\n",
    "angle = np.linspace(-90 , 90 , 181*20)\n",
    "theta = angle*np.pi/180\n",
    "data = []\n",
    "x_axis = []\n",
    "x_axis_rad = []\n",
    "bprofile = []\n",
    "Power = []\n",
    "\n",
    "for row in file:\n",
    "    data.append([float(row[0]),float(row[1])])\n",
    "\n",
    "data.sort(key = lambda x: x[0])  #sorts the array in ascending order\n",
    "\n",
    "for item in data :\n",
    "    x_axis_rad.append(item[0]*np.pi/180) #converts to radians\n",
    "    x_axis.append(item[0])\n",
    "    bprofile.append(item[1])"
   ]
  },
  {
   "cell_type": "code",
   "execution_count": null,
   "metadata": {},
   "outputs": [
    {
     "name": "stdout",
     "output_type": "stream",
     "text": [
      "Initial Error: 4.567 %\n"
     ]
    }
   ],
   "source": [
    "CPM_Genetic_Algorithm.x_axis_rad = x_axis_rad\n",
    "CPM_Genetic_Algorithm.bprofile = bprofile\n",
    "CPM_Genetic_Algorithm.x_axis = x_axis\n",
    "CPM_Genetic_Algorithm.datasheet = datasheet\n",
    "final , progress = CPM_Genetic_Algorithm.geneticAlgorithm(popSize=1000, eliteSize=100, mutationRate=0.2, generations=10)\n",
    "CPM_Genetic_Algorithm.GA_plot(final , progress)"
   ]
  }
 ],
 "metadata": {
  "kernelspec": {
   "display_name": "Python 3",
   "language": "python",
   "name": "python3"
  },
  "language_info": {
   "codemirror_mode": {
    "name": "ipython",
    "version": 3
   },
   "file_extension": ".py",
   "mimetype": "text/x-python",
   "name": "python",
   "nbconvert_exporter": "python",
   "pygments_lexer": "ipython3",
   "version": "3.7.3"
  }
 },
 "nbformat": 4,
 "nbformat_minor": 2
}
