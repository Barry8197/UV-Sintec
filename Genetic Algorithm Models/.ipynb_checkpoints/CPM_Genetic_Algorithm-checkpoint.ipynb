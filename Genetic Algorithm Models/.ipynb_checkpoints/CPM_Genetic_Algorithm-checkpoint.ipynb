{
 "cells": [
  {
   "cell_type": "markdown",
   "metadata": {},
   "source": [
    "# Notebook which models the Beam Profile of LED's using a Genetic Algorithm"
   ]
  },
  {
   "cell_type": "markdown",
   "metadata": {},
   "source": [
    "Module created called \"CPM_Genetic_Algorithm.py\" which contains all functions below and can be imported into otrher notebooks"
   ]
  },
  {
   "cell_type": "code",
   "execution_count": 2,
   "metadata": {},
   "outputs": [],
   "source": [
    "from ipywidgets import interactive\n",
    "import numpy as np\n",
    "%matplotlib inline\n",
    "import matplotlib.pyplot as plt\n",
    "import csv , warnings\n",
    "import ipywidgets as widgets\n",
    "from ipywidgets import HBox\n",
    "import random\n",
    "import operator\n",
    "import pandas as pd"
   ]
  },
  {
   "cell_type": "markdown",
   "metadata": {},
   "source": [
    "Import relevant python libraries"
   ]
  },
  {
   "cell_type": "code",
   "execution_count": 3,
   "metadata": {},
   "outputs": [],
   "source": [
    "def I_calc_cos2(x , c1 , c2 , c3) :\n",
    "    Power = []\n",
    "    c2_rad = np.array(c2)*np.pi/180 #convert to radians as numpy takes radians    \n",
    "    for item in x :\n",
    "        I = 0\n",
    "        for i in range(min(len(c1),2)) :\n",
    "            I_temp = 0 \n",
    "            I_temp = c1[i]*(np.cos(abs(item) - c2_rad[i])**c3[i])\n",
    "            I = I + I_temp\n",
    "            \n",
    "        if len(c1) == 3 :\n",
    "            I_temp = 0 \n",
    "            I_temp = c1[2]*(np.cos(abs(item) - c2_rad[2])**c3[2])\n",
    "            I = I - I_temp            \n",
    "            \n",
    "        Power.append(I)\n",
    "        \n",
    "    return Power"
   ]
  },
  {
   "cell_type": "markdown",
   "metadata": {},
   "source": [
    "Function which completes model calculation as per the equation : "
   ]
  },
  {
   "cell_type": "markdown",
   "metadata": {},
   "source": [
    "$I(\\theta) = \\sum_i c1_i cos(|\\theta| - c2_i)^{c3_i} $"
   ]
  },
  {
   "cell_type": "code",
   "execution_count": 4,
   "metadata": {},
   "outputs": [],
   "source": [
    "def RMSE(absError , yData) : \n",
    "    SE = np.square(absError) # squared errors\n",
    "    MSE = np.mean(SE) # mean squared errors\n",
    "    RMSE = np.sqrt(MSE) # Root Mean Squared Error, RMSE\n",
    "    \n",
    "    return RMSE"
   ]
  },
  {
   "cell_type": "code",
   "execution_count": 5,
   "metadata": {},
   "outputs": [],
   "source": [
    "class Params : \n",
    "    \n",
    "    def __init__(self , c1 , c2 , c3) :\n",
    "        self.c1 = c1 \n",
    "        self.c2 = c2\n",
    "        self.c3 = c3\n",
    "        \n",
    "    def distance(self , bprofile , x_axis_rad) :\n",
    "        profile = I_calc_cos2(x_axis_rad , self.c1 , self.c2 , self.c3)\n",
    "        \n",
    "        absError = abs(np.array(bprofile) - np.array(profile))\n",
    "        distance = RMSE(absError , bprofile)\n",
    "        \n",
    "        return distance\n",
    "    \n",
    "    def __repr__(self):\n",
    "        return \"(\" + str(self.c1) + \",\" + str(self.c2) +  \",\" + str(self.c3) + \")\""
   ]
  },
  {
   "cell_type": "code",
   "execution_count": 6,
   "metadata": {},
   "outputs": [],
   "source": [
    "class Fitness :\n",
    "    def __init__(self , profile) :\n",
    "        self.profile = profile\n",
    "        self.distance = 0\n",
    "        self.fitness = 0.0     \n",
    "        \n",
    "    def profiledistance(self , bprofile , x_axis_rad) :\n",
    "        if self.distance == 0 :\n",
    "            beam_profile = self.profile\n",
    "            pathdistance = beam_profile.distance(bprofile , x_axis_rad)\n",
    "            \n",
    "        self.distance = pathdistance\n",
    "        \n",
    "        return self.distance\n",
    "       \n",
    "    def profilefitness(self , brpofile , x_axis_rad) :\n",
    "        if self.fitness == 0 :\n",
    "            self.fitness = 1 / float(self.profiledistance(bprofile , x_axis_rad))\n",
    "            \n",
    "        return self.fitness"
   ]
  },
  {
   "cell_type": "code",
   "execution_count": 7,
   "metadata": {},
   "outputs": [],
   "source": [
    "def initialPopulation(popSize):\n",
    "    population = []\n",
    "\n",
    "    for i in range(0, popSize):\n",
    "        population.append(Params(c1= [1, float(random.random()) , float(random.random()) ] , \n",
    "                                 c2= [0, int(random.random() * 90) , int(random.random() * 90)] ,\n",
    "                                 c3= [int(random.random()*10) , int(random.random()*200) , int(random.random()*200) ]))\n",
    "    return population"
   ]
  },
  {
   "cell_type": "code",
   "execution_count": 8,
   "metadata": {},
   "outputs": [],
   "source": [
    "def rankParams(population):\n",
    "    fitnessResults = {}\n",
    "    for i in range(0,len(population)):\n",
    "        fitnessResults[i] = Fitness(population[i]).profilefitness(bprofile , x_axis_rad)\n",
    "    return sorted(fitnessResults.items(), key = operator.itemgetter(1), reverse = True)"
   ]
  },
  {
   "cell_type": "code",
   "execution_count": 9,
   "metadata": {},
   "outputs": [],
   "source": [
    "def selection(popRanked, eliteSize):\n",
    "    selectionResults = []\n",
    "    df = pd.DataFrame(np.array(popRanked), columns=[\"Index\",\"Fitness\"])\n",
    "    df['cum_sum'] = df.Fitness.cumsum()\n",
    "    df['cum_perc'] = 100*df.cum_sum/df.Fitness.sum()\n",
    "    \n",
    "    for i in range(0, eliteSize):\n",
    "        selectionResults.append(popRanked[i][0])\n",
    "    for i in range(0, len(popRanked) - eliteSize):\n",
    "        pick = 100*random.random()\n",
    "        for i in range(0, len(popRanked)):\n",
    "            if pick <= df.iat[i,3]:\n",
    "                selectionResults.append(popRanked[i][0])\n",
    "                break\n",
    "    return selectionResults"
   ]
  },
  {
   "cell_type": "code",
   "execution_count": 10,
   "metadata": {},
   "outputs": [],
   "source": [
    "def matingPool(population, selectionResults):\n",
    "    matingpool = []\n",
    "    for i in range(0, len(selectionResults)):\n",
    "        index = selectionResults[i]\n",
    "        matingpool.append(population[index])\n",
    "    return matingpool"
   ]
  },
  {
   "cell_type": "code",
   "execution_count": 11,
   "metadata": {},
   "outputs": [],
   "source": [
    "def breed(parent1, parent2):\n",
    "    child = []\n",
    "\n",
    "    geneA = random.randint(1,3)\n",
    "    if geneA == 1 :\n",
    "        child.append(Params(parent1.c1 , parent2.c2 , parent2.c3))\n",
    "    elif geneA == 2 :\n",
    "        child.append(Params(parent2.c1 , parent1.c2 , parent2.c3))\n",
    "    else :\n",
    "        child.append(Params(parent2.c1 , parent2.c2 , parent1.c3))\n",
    "    return child"
   ]
  },
  {
   "cell_type": "code",
   "execution_count": 12,
   "metadata": {},
   "outputs": [],
   "source": [
    "def breedPopulation(matingpool, eliteSize):\n",
    "    children = []\n",
    "    length = len(matingpool) - eliteSize\n",
    "    pool = random.sample(matingpool, len(matingpool))\n",
    "\n",
    "    for i in range(0,eliteSize):\n",
    "        children.append(matingpool[i])\n",
    "    \n",
    "    for i in range(0, length):\n",
    "        child = breed(pool[i], pool[len(matingpool)-i-1])\n",
    "        children.append(child[0])\n",
    "    return children"
   ]
  },
  {
   "cell_type": "code",
   "execution_count": 13,
   "metadata": {},
   "outputs": [],
   "source": [
    "def mutate(individual, mutationRate):\n",
    "\n",
    "    if(random.random() < mutationRate):\n",
    "        chance = random.randint(1,3)\n",
    "        if chance == 1 :\n",
    "            individual.c1 = [1 , float(random.random()), float(random.random())] \n",
    "        elif chance == 2 :\n",
    "            individual.c2 = [0 , int(random.random() * 90) , int(random.random() * 90)]\n",
    "        else :\n",
    "            individual.c3 = [int(random.random()*10) , int(random.random()*200) ,int(random.random()*200) ]\n",
    "            \n",
    "    return individual"
   ]
  },
  {
   "cell_type": "code",
   "execution_count": 14,
   "metadata": {},
   "outputs": [],
   "source": [
    "def mutatePopulation(population, mutationRate):\n",
    "    mutatedPop = []\n",
    "    \n",
    "    for ind in range(0, len(population)):\n",
    "        mutatedInd = mutate(population[ind], mutationRate)\n",
    "        mutatedPop.append(mutatedInd)\n",
    "    return mutatedPop"
   ]
  },
  {
   "cell_type": "code",
   "execution_count": 15,
   "metadata": {},
   "outputs": [],
   "source": [
    "def nextGeneration(currentGen, eliteSize, mutationRate):\n",
    "    popRanked = rankParams(currentGen)\n",
    "    selectionResults = selection(popRanked, eliteSize)\n",
    "    matingpool = matingPool(currentGen, selectionResults)\n",
    "    children = breedPopulation(matingpool, eliteSize)\n",
    "    nextGeneration = mutatePopulation(children, mutationRate)\n",
    "    return nextGeneration"
   ]
  },
  {
   "cell_type": "code",
   "execution_count": 16,
   "metadata": {},
   "outputs": [],
   "source": [
    "def geneticAlgorithm(popSize, eliteSize, mutationRate, generations):\n",
    "    pop = initialPopulation(popSize)\n",
    "    progress = []\n",
    "    err = 1 / rankParams(pop)[0][1]\n",
    "    progress.append(err)\n",
    "    print(\"Initial Error: \" + str(err*100)[:5] + \" %\")\n",
    "    \n",
    "    for i in range(0, generations):\n",
    "        pop = nextGeneration(pop, eliteSize, mutationRate)\n",
    "        progress.append(1 / rankParams(pop)[0][1])\n",
    "    \n",
    "    print(\"Final Error: \" + str((1 / rankParams(pop)[0][1])*100)[:5] + \" %\")\n",
    "    bestprofileIndex = rankParams(pop)[0][0]\n",
    "    bestprofile = pop[bestprofileIndex]\n",
    "    return bestprofile , progress"
   ]
  },
  {
   "cell_type": "code",
   "execution_count": 42,
   "metadata": {},
   "outputs": [],
   "source": [
    "def model_param(ParameterTuple) :\n",
    "    c1 = ParameterTuple.c1\n",
    "    c2 = ParameterTuple.c2\n",
    "    c3 = ParameterTuple.c3\n",
    "        \n",
    "    return c1 , c2 , c3 "
   ]
  }
 ],
 "metadata": {
  "kernelspec": {
   "display_name": "Python 3",
   "language": "python",
   "name": "python3"
  },
  "language_info": {
   "codemirror_mode": {
    "name": "ipython",
    "version": 3
   },
   "file_extension": ".py",
   "mimetype": "text/x-python",
   "name": "python",
   "nbconvert_exporter": "python",
   "pygments_lexer": "ipython3",
   "version": "3.7.3"
  }
 },
 "nbformat": 4,
 "nbformat_minor": 2
}
