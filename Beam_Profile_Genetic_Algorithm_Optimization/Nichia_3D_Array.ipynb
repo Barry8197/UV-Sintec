{
 "cells": [
  {
   "cell_type": "markdown",
   "metadata": {},
   "source": [
    "# 3D Beam Profile Optomization using Genetic Algorithm"
   ]
  },
  {
   "cell_type": "markdown",
   "metadata": {},
   "source": [
    "### This notebook looks to use a Genetic Algorithm to achieve an optimally flat beam profile using the beam profile of the [NSPW345CS LED](https://www.alldatasheet.com/datasheet-pdf/pdf/240328/NICHIA/NSPW345CS.html?) from Nichia Corp.\n",
    "\n",
    "### The Genetic Algorithm desgined has been adapted from an online source which uses a genetic algorithm to solve the \"travelling salesman problem\" which can be found at [Traveling Salesman Problem](https://towardsdatascience.com/evolution-of-a-salesman-a-complete-genetic-algorithm-tutorial-for-python-6fe5d2b3ca35) "
   ]
  },
  {
   "cell_type": "code",
   "execution_count": 1,
   "metadata": {},
   "outputs": [],
   "source": [
    "import numpy as np\n",
    "%matplotlib inline\n",
    "import matplotlib.pyplot as plt\n",
    "from mpl_toolkits.mplot3d import axes3d\n",
    "import csv , warnings\n",
    "from Cosine_Power_Model import model_fit , model_param , I_calc_cos2 , RMSE\n",
    "import time\n",
    "import random\n",
    "import operator\n",
    "import pandas as pd"
   ]
  },
  {
   "cell_type": "markdown",
   "metadata": {},
   "source": [
    "Import Relevant Python Libaries"
   ]
  },
  {
   "cell_type": "code",
   "execution_count": 2,
   "metadata": {},
   "outputs": [
    {
     "name": "stdout",
     "output_type": "stream",
     "text": [
      "RMSE: 0.050641298624668915\n",
      "R-squared: 0.981117696041258\n",
      "\n",
      "RMSE: 0.019073100008894953\n",
      "R-squared: 0.9972776809885643\n",
      "\n",
      "RMSE: 0.019073100008894953\n",
      "R-squared: 0.9972776809885643\n",
      "\n",
      "RMSE: 0.01536714308676109\n",
      "R-squared: 0.9980652526620926\n",
      "\n"
     ]
    }
   ],
   "source": [
    "datasheet = 'Nichia.csv'\n",
    "file = csv.reader(open(datasheet))  #read in relevant datasheet\n",
    "angle = np.linspace(-90 , 90 , 181)\n",
    "theta = angle*np.pi/180\n",
    "data = []\n",
    "x_axis = []\n",
    "x_axis_rad = []\n",
    "y_axis = []\n",
    "Power = []\n",
    "\n",
    "for row in file:\n",
    "    data.append([float(row[0]),float(row[1])])\n",
    "\n",
    "data.sort(key = lambda x: x[0])  #sorts the array in ascending order\n",
    "\n",
    "for item in data :\n",
    "    x_axis_rad.append(item[0]*np.pi/180) #converts to radians\n",
    "    x_axis.append(item[0])\n",
    "    y_axis.append(item[1])\n",
    "    \n",
    "    \n",
    "\"Specifying the boundary will affect the accuracy of the model.\"\n",
    "\"It is easiest to start with a relatively low accuracy and refine the boundary accoringly\"\n",
    "bound = [[.1 , [1 , 1] , [0 ,0] , [0 , 10]] , [.02,[0,.2] , [45 , 90] , [0 , 200]] , [.02, [0 , 0.2] , [0 ,45] , [0 , 200]] , [.015,[0 , 0.2] , [0 ,90] , [0 , 200]]]\n",
    "\n",
    "Power , Error , Param = model_fit(x_axis , y_axis , .017 , bound)"
   ]
  },
  {
   "cell_type": "markdown",
   "metadata": {},
   "source": [
    "Model the Beam Profile of the Nichia LED using the modelling algorithm designed in \"Sintec-Model\""
   ]
  },
  {
   "cell_type": "code",
   "execution_count": 3,
   "metadata": {},
   "outputs": [],
   "source": [
    "c1 , c2 ,c3 = model_param(Param)\n",
    "ModelPrediction = I_calc_cos2(theta , c1 , c2 , c3 )"
   ]
  },
  {
   "cell_type": "markdown",
   "metadata": {},
   "source": [
    "Store the parameters in local variables c1 ,c2 , c3 and the modelled beam profile in ModelPrediction"
   ]
  },
  {
   "cell_type": "code",
   "execution_count": 4,
   "metadata": {},
   "outputs": [
    {
     "data": {
      "text/plain": [
       "[<matplotlib.lines.Line2D at 0x28701cc4fd0>]"
      ]
     },
     "execution_count": 4,
     "metadata": {},
     "output_type": "execute_result"
    },
    {
     "data": {
      "image/png": "[encoded data removed]",
      "text/plain": [
       "<Figure size 432x288 with 1 Axes>"
      ]
     },
     "metadata": {
      "needs_background": "light"
     },
     "output_type": "display_data"
    }
   ],
   "source": [
    "plt.plot(angle , ModelPrediction)\n",
    "plt.plot(x_axis , y_axis)"
   ]
  },
  {
   "cell_type": "markdown",
   "metadata": {},
   "source": [
    "Comparison of modelled profile and actual profile"
   ]
  },
  {
   "cell_type": "code",
   "execution_count": 54,
   "metadata": {},
   "outputs": [],
   "source": [
    "angle = np.linspace(-70 , 70 , 45)\n",
    "theta = angle*np.pi/180\n",
    "axis_x = axis_y = np.tan(theta)\n",
    "X_axis , Y_axis = np.meshgrid(axis_x , axis_y)"
   ]
  },
  {
   "cell_type": "markdown",
   "metadata": {},
   "source": [
    "Setting up the allowable workspace range. The angle is a linear range of values between -80 and 80 degees. After being converted to radians and the tan of each angle is found the overall workspace is -5.6 and 5.6 normalized units. \n",
    "\n",
    "np.meshgrid converts axis_x and axis_y into a 5.6 x 5.6 3D cartesian plane"
   ]
  },
  {
   "cell_type": "code",
   "execution_count": 55,
   "metadata": {},
   "outputs": [],
   "source": [
    "def I_calc_cos2(x , c1 , c2 , c3) :\n",
    "    Power = []\n",
    "    x = np.array(x)\n",
    "    c2_rad = np.array(c2)*np.pi/180 #convert to radians as numpy takes radians    \n",
    "    I = np.zeros(len(x))\n",
    "    for i in range(min(len(c1),3)) : \n",
    "        I += np.array(c1[i]*(np.cos(abs(x) - c2_rad[i])**c3[i]))\n",
    "\n",
    "    if len(c1) == 4 :\n",
    "        I = I -  np.array(c1[3]*(np.cos(abs(x) - c2_rad[3])**c3[3]))     \n",
    "        \n",
    "    return I"
   ]
  },
  {
   "cell_type": "markdown",
   "metadata": {},
   "source": [
    "Uses the beam profile parameters to return the beam profile at each angle x"
   ]
  },
  {
   "cell_type": "code",
   "execution_count": 111,
   "metadata": {},
   "outputs": [],
   "source": [
    "def RMSE(absError) : \n",
    "    SE = np.square(absError) # squared errors\n",
    "    MSE = np.mean(SE) # mean squared errors\n",
    "    RMSE = np.sqrt(MSE) # Root Mean Squared Error, RMSE\n",
    "\n",
    "    return RMSE"
   ]
  },
  {
   "cell_type": "code",
   "execution_count": 56,
   "metadata": {},
   "outputs": [],
   "source": [
    "def profile_adjustment(origin_x , origin_y , source_dis) :\n",
    "    Z = []\n",
    "    for i in range(len(X_axis)) :\n",
    "        angle_xy = []\n",
    "        for a , b in zip(X_axis[i] , Y_axis[i]) :\n",
    "            dis_from_origin = (np.sqrt((a - origin_x)**2 + (b - origin_y)**2))\n",
    "            angle_xy.append(np.arctan(dis_from_origin/(1+source_dis)))\n",
    "        Z.append(np.array(I_calc_cos2(angle_xy , c1 , c2 ,c3))/(1+source_dis)**2)\n",
    "        \n",
    "    return np.array(Z)"
   ]
  },
  {
   "cell_type": "markdown",
   "metadata": {},
   "source": [
    "Adjusts the normalized Beam Profile value depending on the distance of the point from the origin and the distance of the measurement plane from the source. This code uses the X-Y coordinate plane established earlier"
   ]
  },
  {
   "cell_type": "markdown",
   "metadata": {},
   "source": [
    "The code below was adjusted from the webpage [towarddatascience.com](https://towardsdatascience.com/evolution-of-a-salesman-a-complete-genetic-algorithm-tutorial-for-python-6fe5d2b3ca35) which outlines how a genetic algorithm can be used to optomize the path  of a car salesman to several cities , where he visits each city only once"
   ]
  },
  {
   "cell_type": "code",
   "execution_count": 345,
   "metadata": {},
   "outputs": [],
   "source": [
    "class Params :\n",
    "    \n",
    "    def __init__(self , origin_x , origin_y , source_dis) :\n",
    "        self.origin_x = np.array(origin_x)\n",
    "        self.origin_y = np.array(origin_y)\n",
    "        self.source_dis = source_dis\n",
    "        \n",
    "    def distance(self) :\n",
    "        Beam_Profile = np.array([np.zeros(45) for i in range(45)])\n",
    "        for item1 , item2 in zip(self.origin_x , self.origin_y) :\n",
    "            Beam_Profile += profile_adjustment(item1 , item2 , self.source_dis)\n",
    "        \n",
    "        absError = abs(target_profile - Beam_Profile)\n",
    "        distance = np.sum(absError)\n",
    "        \n",
    "        return distance\n",
    "    \n",
    "    def __repr__(self):\n",
    "        return \"(\" + str(self.origin_x) + \",\" + str(self.origin_y) +  \",\" + str(self.source_dis) + \")\"\n",
    "        "
   ]
  },
  {
   "cell_type": "markdown",
   "metadata": {},
   "source": [
    "Classifying the parameters over which the genetic algorithm intends to optomize. origin_x and origin_y at which the LED's can be placed and source_dis is the distance away at which the LED's will be measured\n",
    "\n",
    "Params.distance() is a function which gives a score based on how low the variance of the beam profile is. The lower the value of the distance the flatter the beam profile is in theory. Ideally you would select a range over which you wish to achieve a optimally flat response, thus this distance funciton could be altered to target a specific section of the 2D cartesian plane over which you want an optimally flat response. Best way to do this would be to identify a target and use a RMSE between the two. Alternatively minimize the variation between the Beam_Profile and the target. "
   ]
  },
  {
   "cell_type": "code",
   "execution_count": 235,
   "metadata": {},
   "outputs": [],
   "source": [
    "class Fitness :\n",
    "    \n",
    "    def __init__(self , profile) :\n",
    "        self.profile = profile\n",
    "        self.fitness = 0.0\n",
    "        \n",
    "    def profiledistance(self) :\n",
    "        if self.distance == 0 :\n",
    "            beam_profile = self.profile\n",
    "            pathdistance = beam_profile.distance()\n",
    "            \n",
    "        self.distance = pathdistance\n",
    "        \n",
    "        return self.distance\n",
    "    \n",
    "    def profilefitness(self) :\n",
    "        if self.fitness == 0 :\n",
    "            self.fitness = 1 / float(self.profile.distance())\n",
    "            \n",
    "        return self.fitness"
   ]
  },
  {
   "cell_type": "markdown",
   "metadata": {},
   "source": [
    "This class describes the fitness of each Param in the population. The gentic Algorithm maximizes the fittest function, hence it is the inverse of the variation described above that is taken"
   ]
  },
  {
   "cell_type": "code",
   "execution_count": 339,
   "metadata": {},
   "outputs": [],
   "source": [
    "def initialPopulation(popSize):\n",
    "    population = []\n",
    "\n",
    "    for i in range(0, popSize):\n",
    "        source_dis = random.uniform(0 , 1)\n",
    "        population.append(Params(origin_x= [random.uniform(-1.2 , 1.2) for i in range(4)] , \n",
    "                                 origin_y= [random.uniform(-1.2 , 1.2) for i in range(4)],\n",
    "                                 source_dis= source_dis))\n",
    "    return population"
   ]
  },
  {
   "cell_type": "markdown",
   "metadata": {},
   "source": [
    "This function describes the initial population over which the genetic algorthim will search. Note the source distance is constant for each LED in a single set of the population. The source distance chosen is always the extremity, however the larger the source distance the less the power. For this reason this parameter could be removed and replaced with a sum which calculates the correct source distance for a required power. \n",
    "\n",
    "i.e. if a normalized power of 0.5 is required, the source distance should be selected as   \n",
    "\n",
    "$0.5 = max($Modelled_Beam_Profile$)/d^2$  \n",
    "\n",
    "assuming max($Modelled_Beam_Profile$) = 1  \n",
    "\n",
    "$d^2 = 1/0.5$  \n",
    "\n",
    "$d^2 = 2 $  \n",
    "\n",
    "$d = \\sqrt{2} $  \n",
    "\n",
    "$(1 + $source_dis$) = \\sqrt{2} $  \n",
    "\n",
    "source_dis $ = \\sqrt{2} - 1 $  \n",
    "\n",
    "source_dis $ \\approx 0.414 $  "
   ]
  },
  {
   "cell_type": "code",
   "execution_count": 237,
   "metadata": {},
   "outputs": [],
   "source": [
    "def rankParams(population):\n",
    "    fitnessResults = {}\n",
    "    for i in range(0,len(population)):\n",
    "        fitnessResults[i] = Fitness(population[i]).profilefitness()\n",
    "    return sorted(fitnessResults.items(), key = operator.itemgetter(1), reverse = True)"
   ]
  },
  {
   "cell_type": "markdown",
   "metadata": {},
   "source": [
    "Ranks the models based on their fitness values. Parameter values are stored using the Params class"
   ]
  },
  {
   "cell_type": "code",
   "execution_count": 238,
   "metadata": {},
   "outputs": [],
   "source": [
    "def selection(popRanked, eliteSize):\n",
    "    selectionResults = []\n",
    "    df = pd.DataFrame(np.array(popRanked), columns=[\"Index\",\"Fitness\"])\n",
    "    df['cum_sum'] = df.Fitness.cumsum()\n",
    "    df['cum_perc'] = 100*df.cum_sum/df.Fitness.sum()\n",
    "    \n",
    "    for i in range(0, eliteSize):\n",
    "        selectionResults.append(popRanked[i][0])\n",
    "    for i in range(0, len(popRanked) - eliteSize):\n",
    "        pick = 100*random.random()\n",
    "        for i in range(0, len(popRanked)):\n",
    "            if pick <= df.iat[i,3]:\n",
    "                selectionResults.append(popRanked[i][0])\n",
    "                break\n",
    "    return selectionResults"
   ]
  },
  {
   "cell_type": "markdown",
   "metadata": {},
   "source": [
    "The fittest parameters are automatically selected up to and including the length of the elitesize variable. The other values are selected randomly from the group"
   ]
  },
  {
   "cell_type": "code",
   "execution_count": 239,
   "metadata": {},
   "outputs": [],
   "source": [
    "def matingPool(population, selectionResults):\n",
    "    matingpool = []\n",
    "    for i in range(0, len(selectionResults)):\n",
    "        index = selectionResults[i]\n",
    "        matingpool.append(population[index])\n",
    "    return matingpool"
   ]
  },
  {
   "cell_type": "markdown",
   "metadata": {},
   "source": [
    "This function selects all selected parameters from the selection function."
   ]
  },
  {
   "cell_type": "code",
   "execution_count": 240,
   "metadata": {},
   "outputs": [],
   "source": [
    "def breed(parent1, parent2):\n",
    "    child = []\n",
    "\n",
    "    geneA = random.randint(1,3)\n",
    "    if geneA == 1 :\n",
    "        child.append(Params(parent1.origin_x , parent2.origin_y , parent2.source_dis))\n",
    "    elif geneA == 2 :\n",
    "        child.append(Params(parent2.origin_x , parent1.origin_y , parent2.source_dis))\n",
    "    else :\n",
    "        child.append(Params(parent2.origin_x , parent2.origin_y , parent1.source_dis))\n",
    "    return child"
   ]
  },
  {
   "cell_type": "markdown",
   "metadata": {},
   "source": [
    "This funciton is used to crossover two chormosones together based on a random integer between 1 and 3. Crossover occurs between the origin_x , origin_y or source_dis parameter of parent1 and the other two parameters of parent 2. e.g. if the random integer is 2 , the new chromosone would consist of origin_x and source_dis from parent 2 and origin_y from parent2"
   ]
  },
  {
   "cell_type": "code",
   "execution_count": 241,
   "metadata": {},
   "outputs": [],
   "source": [
    "def breedPopulation(matingpool, eliteSize):\n",
    "    children = []\n",
    "    length = len(matingpool) - eliteSize\n",
    "    pool = random.sample(matingpool, len(matingpool))\n",
    "\n",
    "    for i in range(0,eliteSize):\n",
    "        children.append(matingpool[i])\n",
    "    \n",
    "    for i in range(0, length):\n",
    "        child = breed(pool[i], pool[len(matingpool)-i-1])\n",
    "        children.append(child[0])\n",
    "    return children"
   ]
  },
  {
   "cell_type": "markdown",
   "metadata": {},
   "source": [
    "Ensures the fittest parameters are automatically selected and then performs crossover between the ith and ith+1 element starting from the fittest and ending at the length of the population minus the elitesize"
   ]
  },
  {
   "cell_type": "code",
   "execution_count": 340,
   "metadata": {},
   "outputs": [],
   "source": [
    "def mutate(individual, mutationRate):\n",
    "\n",
    "    if(random.random() < mutationRate):\n",
    "        chance = random.randint(1,3)\n",
    "        if chance == 1 :\n",
    "            individual.origin_x =  np.array([random.uniform(-1.2 , 1.2) for i in range(4)])\n",
    "        elif chance == 2 :\n",
    "            individual.origin_y = np.array([random.uniform(-1.2 , 1.2) for i in range(4)])\n",
    "        else :\n",
    "            individual.source_dis = random.uniform(0 , 1)\n",
    "            \n",
    "    return individual"
   ]
  },
  {
   "cell_type": "markdown",
   "metadata": {},
   "source": [
    "Introduces mutatation into the population if a sample is lower than the mutation rate"
   ]
  },
  {
   "cell_type": "code",
   "execution_count": 341,
   "metadata": {},
   "outputs": [],
   "source": [
    "def mutatePopulation(population, mutationRate):\n",
    "    mutatedPop = []\n",
    "    \n",
    "    for ind in range(0, len(population)):\n",
    "        mutatedInd = mutate(population[ind], mutationRate)\n",
    "        mutatedPop.append(mutatedInd)\n",
    "    return mutatedPop"
   ]
  },
  {
   "cell_type": "markdown",
   "metadata": {},
   "source": [
    "Executes the mutate function for the entire set of the population"
   ]
  },
  {
   "cell_type": "code",
   "execution_count": 342,
   "metadata": {},
   "outputs": [],
   "source": [
    "def nextGeneration(currentGen, eliteSize, mutationRate):\n",
    "    popRanked = rankParams(currentGen)\n",
    "    progress = 1/popRanked[0][1]\n",
    "    selectionResults = selection(popRanked, eliteSize)\n",
    "    matingpool = matingPool(currentGen, selectionResults)\n",
    "    children = breedPopulation(matingpool, eliteSize)\n",
    "    nextGeneration = mutatePopulation(children, mutationRate)\n",
    "    return nextGeneration , progress"
   ]
  },
  {
   "cell_type": "markdown",
   "metadata": {},
   "source": [
    "Executes the above funcitons so that they can be performed iteratively without the need for excess coding"
   ]
  },
  {
   "cell_type": "code",
   "execution_count": 343,
   "metadata": {},
   "outputs": [],
   "source": [
    "def geneticAlgorithm(popSize, eliteSize, mutationRate, generations):\n",
    "    pop = initialPopulation(popSize)\n",
    "    progress = []\n",
    "    err = 1 / rankParams(pop)[0][1]\n",
    "    progress.append(err)\n",
    "    print(\"Initial Variance: \" + str(err) + \"\\n\")\n",
    "    \n",
    "    for i in range(0, generations):\n",
    "        start = time.time()\n",
    "        pop , err = nextGeneration(pop, eliteSize, mutationRate)\n",
    "        end = time.time()\n",
    "        time_update = end - start\n",
    "        mins = int(str(((time_update*generations)-(time_update*(i+1)))/60).partition(\".\")[0])\n",
    "        secs = ((time_update*generations)-(time_update*(i+1)))%60\n",
    "        progress.append(err)\n",
    "        print(\"Approx {:3} minutes {:2.3} seconds remaining\".format(mins , secs), end=\"\\r\")\n",
    "    \n",
    "    Final = rankParams(pop)[0]\n",
    "    print(\"\\n\")\n",
    "    print(\"Final Variance: \" + str((1 / Final[1])))\n",
    "    bestprofileIndex = Final[0]\n",
    "    bestprofile = pop[bestprofileIndex]\n",
    "    return bestprofile , progress"
   ]
  },
  {
   "cell_type": "markdown",
   "metadata": {},
   "source": [
    "Ties all the previous funcitons into one package and prints stating and finishing error as well as keeping track of the approximate time to completion"
   ]
  },
  {
   "cell_type": "code",
   "execution_count": null,
   "metadata": {},
   "outputs": [
    {
     "name": "stdout",
     "output_type": "stream",
     "text": [
      "Initial Variance: 559.4604084592711\n",
      "\n",
      "Approx   0 minutes 10.6 seconds remaining\r"
     ]
    }
   ],
   "source": [
    "target_profile = target(1)\n",
    "bestprofile , progress = geneticAlgorithm(popSize=100 , eliteSize=10 , mutationRate=0.1 , generations= 20)"
   ]
  },
  {
   "cell_type": "code",
   "execution_count": 287,
   "metadata": {},
   "outputs": [],
   "source": [
    "def target(power) :\n",
    "    Z = []\n",
    "    for i in range(len(X_axis)) :\n",
    "        Z_temp = []\n",
    "        for a , b in zip(X_axis[i] , Y_axis[i]) :\n",
    "            if -1 < a < 1 and -1 < b < 1 :\n",
    "                Z_temp.append(power)\n",
    "            else :\n",
    "                Z_temp.append(0)\n",
    "        Z.append(Z_temp)\n",
    "        \n",
    "    return np.array(Z)"
   ]
  },
  {
   "cell_type": "markdown",
   "metadata": {},
   "source": [
    "Function which creates the target as a flat top cube of variable height"
   ]
  },
  {
   "cell_type": "code",
   "execution_count": 333,
   "metadata": {},
   "outputs": [
    {
     "data": {
      "text/plain": [
       "[<matplotlib.lines.Line2D at 0x2870627b278>]"
      ]
     },
     "execution_count": 333,
     "metadata": {},
     "output_type": "execute_result"
    },
    {
     "data": {
      "image/png": "[encoded data removed]",
      "text/plain": [
       "<Figure size 432x288 with 1 Axes>"
      ]
     },
     "metadata": {
      "needs_background": "light"
     },
     "output_type": "display_data"
    }
   ],
   "source": [
    "plt.plot(progress)"
   ]
  },
  {
   "cell_type": "code",
   "execution_count": 334,
   "metadata": {},
   "outputs": [
    {
     "data": {
      "image/png": "[encoded data removed]",
      "text/plain": [
       "<Figure size 1080x432 with 3 Axes>"
      ]
     },
     "metadata": {
      "needs_background": "light"
     },
     "output_type": "display_data"
    }
   ],
   "source": [
    "variance = []\n",
    "peak_intensity = []\n",
    "Beam_Profile = np.array([np.zeros(45) for i in range(45)])\n",
    "for item1 , item2 in zip(bestprofile.origin_x , bestprofile.origin_y) :\n",
    "    Beam_Profile += np.array(profile_adjustment(item1 , item2 , bestprofile.source_dis))\n",
    "    \n",
    "max_val = max([max(item) for item in Beam_Profile])\n",
    "peak_intensity.append(max_val)\n",
    "fig = plt.figure(figsize = (15,6))\n",
    "ax1 = fig.add_subplot(121, projection='3d')\n",
    "ax1.plot_surface(X_axis, Y_axis, Beam_Profile, rstride=10, cstride=10 )\n",
    "ax1.plot_surface(X_axis, Y_axis, target(1), rstride=10, cstride=10 )\n",
    "ax1.set_xlabel(\"X-Axis Coordinates\")\n",
    "ax1.set_ylabel(\"Y-Axis Coordinates\")\n",
    "ax1.set_zlabel(\"Normalized Power\")\n",
    "ax1.set_zlim(0,1.5)\n",
    "ax1.view_init(0  , 90)\n",
    "ax1.set_title(\"Beam Profile for 4 Optimally Postitioned \\n measured at a distance of %1.2f units away\" % bestprofile.source_dis)\n",
    "ax2 = fig.add_subplot(122)\n",
    "ax2.set_title(\"Power Contour Profile of Combined Beam Profile\")\n",
    "cf = ax2.contourf(X_axis , Y_axis , Beam_Profile)\n",
    "ax2.set_xlabel(\"X-Axis Coordinates\")\n",
    "ax2.set_ylabel(\"Y-Axis Coordinates\")\n",
    "#ax2.set_xlim(-1,1)\n",
    "#ax2.set_ylim(-1,1)\n",
    "cbar = plt.colorbar(cf)\n",
    "plt.show()"
   ]
  },
  {
   "cell_type": "code",
   "execution_count": 335,
   "metadata": {},
   "outputs": [
    {
     "name": "stdout",
     "output_type": "stream",
     "text": [
      "At a distance away of 0.749\n"
     ]
    },
    {
     "data": {
      "image/png": "[encoded data removed]",
      "text/plain": [
       "<Figure size 432x288 with 1 Axes>"
      ]
     },
     "metadata": {
      "needs_background": "light"
     },
     "output_type": "display_data"
    }
   ],
   "source": [
    "for item1 , item2 in zip(bestprofile.origin_x , bestprofile.origin_y) :\n",
    "    plt.scatter(item1 , item2 , color = 'b')\n",
    "    \n",
    "plt.title(\"LED Coordinates\")\n",
    "plt.grid()\n",
    "plt.xlim(-1.5 , 1.5)\n",
    "plt.ylim(-1.5 , 1.5)\n",
    "print(\"At a distance away of %1.3f\" % bestprofile.source_dis)\n"
   ]
  },
  {
   "cell_type": "code",
   "execution_count": null,
   "metadata": {},
   "outputs": [],
   "source": []
  }
 ],
 "metadata": {
  "kernelspec": {
   "display_name": "Python 3",
   "language": "python",
   "name": "python3"
  },
  "language_info": {
   "codemirror_mode": {
    "name": "ipython",
    "version": 3
   },
   "file_extension": ".py",
   "mimetype": "text/x-python",
   "name": "python",
   "nbconvert_exporter": "python",
   "pygments_lexer": "ipython3",
   "version": "3.7.3"
  }
 },
 "nbformat": 4,
 "nbformat_minor": 2
}
